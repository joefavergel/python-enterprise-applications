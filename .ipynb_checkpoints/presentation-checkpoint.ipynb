{
 "cells": [
  {
   "cell_type": "code",
   "execution_count": 6,
   "metadata": {
    "code_folding": [],
    "slideshow": {
     "slide_type": "skip"
    }
   },
   "outputs": [
    {
     "data": {
      "text/html": [
       "    \n",
       "<!-- reveal.js CSS theme and local overrides -->\n",
       "<link rel=\"stylesheet\" href=\"https://fonts.googleapis.com/css?family=Open+Sans:300,400,600,700&amp;lang=en\"/>\n",
       "<link rel=\"stylesheet\" href=\"https://fonts.googleapis.com/css?family=Merriweather:italic&amp;lang=en\"/>\n",
       "<link rel=\"stylesheet\" href=\"presentation.css\"/>  \n"
      ],
      "text/plain": [
       "<IPython.core.display.HTML object>"
      ]
     },
     "metadata": {},
     "output_type": "display_data"
    }
   ],
   "source": [
    "%%HTML\n",
    "    \n",
    "<!-- reveal.js CSS theme and local overrides -->\n",
    "<link rel=\"stylesheet\" href=\"https://fonts.googleapis.com/css?family=Open+Sans:300,400,600,700&amp;lang=en\"/>\n",
    "<link rel=\"stylesheet\" href=\"https://fonts.googleapis.com/css?family=Merriweather:italic&amp;lang=en\"/>\n",
    "<link rel=\"stylesheet\" href=\"presentation.css\"/>  "
   ]
  },
  {
   "cell_type": "code",
   "execution_count": 2,
   "metadata": {
    "slideshow": {
     "slide_type": "skip"
    }
   },
   "outputs": [],
   "source": [
    "import pandas as pd\n",
    "import os\n",
    "from datetime import date\n",
    "import markdown\n",
    "from IPython.display import HTML\n",
    "\n",
    "# Set information:\n",
    "event = 'Name of Event'\n",
    "title = 'Title goes here'\n",
    "subtitle = 'Subtitle goes here'\n",
    "today = date.today().strftime('%d-%m-%Y')\n",
    "\n",
    "# presenter information:\n",
    "name = 'Your Name MSc.'\n",
    "email = 'your@email.com'\n",
    "twitter = '@twitter'\n",
    "url = 'www.your-website.com'"
   ]
  },
  {
   "cell_type": "code",
   "execution_count": 3,
   "metadata": {
    "slideshow": {
     "slide_type": "skip"
    }
   },
   "outputs": [
    {
     "data": {
      "text/html": [
       "<button style=\"margin:0 auto; display: block;\" onclick=\"jQuery('.code_cell .input_area').toggle();\n",
       "    jQuery('.prompt').toggle();\">Toggle code</button>"
      ],
      "text/plain": [
       "<IPython.core.display.HTML object>"
      ]
     },
     "execution_count": 3,
     "metadata": {},
     "output_type": "execute_result"
    }
   ],
   "source": [
    "# set HTMLs\n",
    "email_html = HTML(f\"<a href='mailto:{email}'>{email}</a>\")\n",
    "twitter_html = HTML(f\"<a href='https://twitter.com/{twitter.split('@')[-1]}'>{twitter}</a>\")\n",
    "url_html = HTML(f\"<a href='{url}'>{url}</a>\")\n",
    "footer_html = HTML(f\"<div class='footer'>{event} | {title} | {today}</div>\")\n",
    "\n",
    "# This line will add a button to toggle visibility of code blocks,\n",
    "# for use with the HTML export version\n",
    "toggle = HTML('''<button style=\"margin:0 auto; display: block;\" onclick=\"jQuery('.code_cell .input_area').toggle();\n",
    "    jQuery('.prompt').toggle();\">Toggle code</button>''')\n",
    "toggle"
   ]
  },
  {
   "cell_type": "markdown",
   "metadata": {
    "slideshow": {
     "slide_type": "slide"
    },
    "variables": {
     "name": "Your Name MSc.",
     "subtitle": "Subtitle goes here",
     "title": "Title goes here"
    }
   },
   "source": [
    "<section id=\"title-slide\"> \n",
    "    <div id='rise-header'><img id=\"logo\" src=\"./img/uu-logo.png\"></div>\n",
    "    <br><br><br><h1><i>Title goes here</i></h1>\n",
    "    <h4><i>Subtitle goes here</i></h4>\n",
    "    <br><br><br><br><br><br>\n",
    "    <div class=\"uu_title_container\">\n",
    "        <smaller>\n",
    "        <div class='column'>\n",
    "            <b>Presented by:</b><br>Your Name MSc.<sup><small>1</small></sup>\n",
    "        </div>  \n",
    "        <div class='column'>\n",
    "            <b>Co-Authors: </b><br> Co-author 1<sup><small>1,2</small></sup>&amp; Co-author 2<sup><small>1,3</small></sup>\n",
    "            </div></smaller>\n",
    "    </div><br>\n",
    "    <div class='footer'>\n",
    "        <b>1.</b> Utrecht University, <b>2.</b> Affiliation 2, <b>3.</b> Affiliation 3\n",
    "    </div>\n",
    "</section>"
   ]
  },
  {
   "cell_type": "markdown",
   "metadata": {
    "slideshow": {
     "slide_type": "slide"
    },
    "variables": {
     "footer_html": "<div class='footer'>Name of Event | Title goes here | 26-02-2021</div>"
    }
   },
   "source": [
    "<h2>Table of Contents</h2>\n",
    "\n",
    "<div class='footer'>Name of Event | Title goes here | 26-02-2021</div>"
   ]
  },
  {
   "cell_type": "markdown",
   "metadata": {
    "slideshow": {
     "slide_type": "slide"
    },
    "variables": {
     "footer_html": "<div class='footer'>Name of Event | Title goes here | 26-02-2021</div>"
    }
   },
   "source": [
    "<div class=\"uu_title_container\">\n",
    "    <div class='column'>\n",
    "        <h2>Introduction</h2>\n",
    "        <p>Lorem ipsum dolor sit amet, consectetur adipiscing elit. Duis venenatis luctus ante sed interdum. Proin arcu urna, gravida vitae interdum et, congue ac metus. Cras ornare purus lacinia, convallis risus fringilla, accumsan erat. Aenean porttitor pellentesque tellus, a gravida mauris laoreet vitae.</p>\n",
    "    </div>  \n",
    "    <div class='column' id='frame'>\n",
    "        <figure><center><img id=\"col_img\" src=\"https://static01.nyt.com/images/2019/10/02/video/02-still-for-america-room-loop/02-still-for-america-room-loop-superJumbo.jpg?quality=90&auto=webp\"><div id='image_caption'>New York Times</div></center></figure>\n",
    "    </div>\n",
    "</div>\n",
    "\n",
    "<div class='footer'>Name of Event | Title goes here | 26-02-2021</div>"
   ]
  },
  {
   "cell_type": "markdown",
   "metadata": {
    "slideshow": {
     "slide_type": "slide"
    },
    "variables": {
     "footer_html": "<div class='footer'>Name of Event | Title goes here | 26-02-2021</div>"
    }
   },
   "source": [
    "<div class=\"uu_title_container\">\n",
    "    <div class='column'>\n",
    "        <h2>Theory</h2>\n",
    "        <p>Lorem ipsum dolor sit amet, consectetur adipiscing elit. Duis venenatis luctus ante sed interdum. Proin arcu urna, gravida vitae interdum et, congue ac metus. Cras ornare purus lacinia, convallis risus fringilla, accumsan erat. Aenean porttitor pellentesque tellus, a gravida mauris laoreet vitae.</p>\n",
    "    </div>  \n",
    "    <div class='column' id='frame'>\n",
    "        <br><br><br>\n",
    "        <center><img id=\"undraw_col_img\" src=\"./img/undraw_lightbulb.svg\"></center>\n",
    "    </div>\n",
    "</div>\n",
    "\n",
    "<div class='footer'>Name of Event | Title goes here | 26-02-2021</div>"
   ]
  },
  {
   "cell_type": "markdown",
   "metadata": {
    "slideshow": {
     "slide_type": "slide"
    },
    "variables": {
     "footer_html": "<div class='footer'>Name of Event | Title goes here | 26-02-2021</div>"
    }
   },
   "source": [
    "<figure><center><img id=\"full_screen\" src=\"https://static01.nyt.com/images/2019/10/02/video/02-still-for-america-room-loop/02-still-for-america-room-loop-superJumbo.jpg?quality=90&auto=webp\"><div id='image_caption'>New York Times</div></center><figure>\n",
    "\n",
    "<div class='footer'>Name of Event | Title goes here | 26-02-2021</div>"
   ]
  },
  {
   "cell_type": "markdown",
   "metadata": {
    "slideshow": {
     "slide_type": "slide"
    },
    "variables": {
     "footer_html": "<div class='footer'>Name of Event | Title goes here | 26-02-2021</div>"
    }
   },
   "source": [
    "## Methods\n",
    "\n",
    "$$y=a+b+e$$\n",
    "\n",
    "<div class='footer'>Name of Event | Title goes here | 26-02-2021</div>"
   ]
  },
  {
   "cell_type": "markdown",
   "metadata": {
    "slideshow": {
     "slide_type": "slide"
    },
    "variables": {
     "footer_html": "<div class='footer'>Name of Event | Title goes here | 26-02-2021</div>"
    }
   },
   "source": [
    "## Results\n",
    "\n",
    "> \"Lorem ipsum dolor sit amet, consectetur adipiscing elit. Duis venenatis luctus ante sed interdum. Proin arcu urna, gravida vitae interdum et, congue ac metus. Cras ornare purus lacinia, convallis risus fringilla, accumsan erat. Aenean porttitor pellentesque tellus, a gravida mauris laoreet vitae.\"\n",
    ">\n",
    ">**AUTHOR (YEAR)**\n",
    "\n",
    "<div class='footer'>Name of Event | Title goes here | 26-02-2021</div>"
   ]
  },
  {
   "cell_type": "markdown",
   "metadata": {
    "slideshow": {
     "slide_type": "slide"
    },
    "variables": {}
   },
   "source": [
    "## Results\n",
    "#### *Table 1: Descriptive Statistics (N=192,830)*"
   ]
  },
  {
   "cell_type": "code",
   "execution_count": 13,
   "metadata": {
    "slideshow": {
     "slide_type": "skip"
    }
   },
   "outputs": [],
   "source": [
    "styles = [\n",
    "    dict(selector=\"th\", props=[(\"font-size\", \"150%\"),\n",
    "                              ('text-align', 'center'),\n",
    "                              ('font-weight', 'bold'),\n",
    "                              ('color', '#000000'),\n",
    "                              ('background-color', '#f7f7f9'),\n",
    "                              ('width', '100px')]),\n",
    "    dict(selector=\"td\", props=[(\"font-size\", \"150%\"),\n",
    "                              ('background-color', '#FFFFFF'),\n",
    "                              ('text-align', 'center')]),\n",
    "    dict(selector=\"caption\", props=[(\"caption-side\", \"bottom\")])\n",
    "]\n",
    "\n",
    "with pd.option_context('display.precision', 3):\n",
    "    html= (pd.read_csv(os.path.join('resources', 'desc_table.csv'), sep = ';', decimal = ',')\\\n",
    "        .set_index('var')\n",
    "        .style.format(None, na_rep=\"-\")\n",
    "        .set_table_styles(styles)\n",
    "        .set_caption(\"Own calculations using xxxx data\"))"
   ]
  },
  {
   "cell_type": "code",
   "execution_count": 14,
   "metadata": {},
   "outputs": [
    {
     "data": {
      "text/html": [
       "<style  type=\"text/css\" >\n",
       "    #T_af8bfae2_7872_11eb_a31f_784f439a87aa th {\n",
       "          font-size: 150%;\n",
       "          text-align: center;\n",
       "          font-weight: bold;\n",
       "          color: #000000;\n",
       "          background-color: #f7f7f9;\n",
       "          width: 100px;\n",
       "    }    #T_af8bfae2_7872_11eb_a31f_784f439a87aa td {\n",
       "          font-size: 150%;\n",
       "          background-color: #FFFFFF;\n",
       "          text-align: center;\n",
       "    }    #T_af8bfae2_7872_11eb_a31f_784f439a87aa caption {\n",
       "          caption-side: bottom;\n",
       "    }</style><table id=\"T_af8bfae2_7872_11eb_a31f_784f439a87aa\" ><caption>Own calculations using xxxx data</caption><thead>    <tr>        <th class=\"blank level0\" ></th>        <th class=\"col_heading level0 col0\" >M</th>        <th class=\"col_heading level0 col1\" >SD</th>        <th class=\"col_heading level0 col2\" >MIN</th>        <th class=\"col_heading level0 col3\" >MAX</th>    </tr>    <tr>        <th class=\"index_name level0\" >var</th>        <th class=\"blank\" ></th>        <th class=\"blank\" ></th>        <th class=\"blank\" ></th>        <th class=\"blank\" ></th>    </tr></thead><tbody>\n",
       "                <tr>\n",
       "                        <th id=\"T_af8bfae2_7872_11eb_a31f_784f439a87aalevel0_row0\" class=\"row_heading level0 row0\" >y</th>\n",
       "                        <td id=\"T_af8bfae2_7872_11eb_a31f_784f439a87aarow0_col0\" class=\"data row0 col0\" >0.000</td>\n",
       "                        <td id=\"T_af8bfae2_7872_11eb_a31f_784f439a87aarow0_col1\" class=\"data row0 col1\" >1.231</td>\n",
       "                        <td id=\"T_af8bfae2_7872_11eb_a31f_784f439a87aarow0_col2\" class=\"data row0 col2\" >-3.000</td>\n",
       "                        <td id=\"T_af8bfae2_7872_11eb_a31f_784f439a87aarow0_col3\" class=\"data row0 col3\" >2.987</td>\n",
       "            </tr>\n",
       "            <tr>\n",
       "                        <th id=\"T_af8bfae2_7872_11eb_a31f_784f439a87aalevel0_row1\" class=\"row_heading level0 row1\" >x1</th>\n",
       "                        <td id=\"T_af8bfae2_7872_11eb_a31f_784f439a87aarow1_col0\" class=\"data row1 col0\" >0.600</td>\n",
       "                        <td id=\"T_af8bfae2_7872_11eb_a31f_784f439a87aarow1_col1\" class=\"data row1 col1\" >-</td>\n",
       "                        <td id=\"T_af8bfae2_7872_11eb_a31f_784f439a87aarow1_col2\" class=\"data row1 col2\" >0.000</td>\n",
       "                        <td id=\"T_af8bfae2_7872_11eb_a31f_784f439a87aarow1_col3\" class=\"data row1 col3\" >1.000</td>\n",
       "            </tr>\n",
       "            <tr>\n",
       "                        <th id=\"T_af8bfae2_7872_11eb_a31f_784f439a87aalevel0_row2\" class=\"row_heading level0 row2\" >x2</th>\n",
       "                        <td id=\"T_af8bfae2_7872_11eb_a31f_784f439a87aarow2_col0\" class=\"data row2 col0\" >5.320</td>\n",
       "                        <td id=\"T_af8bfae2_7872_11eb_a31f_784f439a87aarow2_col1\" class=\"data row2 col1\" >1.430</td>\n",
       "                        <td id=\"T_af8bfae2_7872_11eb_a31f_784f439a87aarow2_col2\" class=\"data row2 col2\" >0.000</td>\n",
       "                        <td id=\"T_af8bfae2_7872_11eb_a31f_784f439a87aarow2_col3\" class=\"data row2 col3\" >8.000</td>\n",
       "            </tr>\n",
       "            <tr>\n",
       "                        <th id=\"T_af8bfae2_7872_11eb_a31f_784f439a87aalevel0_row3\" class=\"row_heading level0 row3\" >x3</th>\n",
       "                        <td id=\"T_af8bfae2_7872_11eb_a31f_784f439a87aarow3_col0\" class=\"data row3 col0\" >7.000</td>\n",
       "                        <td id=\"T_af8bfae2_7872_11eb_a31f_784f439a87aarow3_col1\" class=\"data row3 col1\" >0.421</td>\n",
       "                        <td id=\"T_af8bfae2_7872_11eb_a31f_784f439a87aarow3_col2\" class=\"data row3 col2\" >5.000</td>\n",
       "                        <td id=\"T_af8bfae2_7872_11eb_a31f_784f439a87aarow3_col3\" class=\"data row3 col3\" >9.000</td>\n",
       "            </tr>\n",
       "            <tr>\n",
       "                        <th id=\"T_af8bfae2_7872_11eb_a31f_784f439a87aalevel0_row4\" class=\"row_heading level0 row4\" >x4</th>\n",
       "                        <td id=\"T_af8bfae2_7872_11eb_a31f_784f439a87aarow4_col0\" class=\"data row4 col0\" >0.000</td>\n",
       "                        <td id=\"T_af8bfae2_7872_11eb_a31f_784f439a87aarow4_col1\" class=\"data row4 col1\" >0.987</td>\n",
       "                        <td id=\"T_af8bfae2_7872_11eb_a31f_784f439a87aarow4_col2\" class=\"data row4 col2\" >-2.000</td>\n",
       "                        <td id=\"T_af8bfae2_7872_11eb_a31f_784f439a87aarow4_col3\" class=\"data row4 col3\" >2.000</td>\n",
       "            </tr>\n",
       "            <tr>\n",
       "                        <th id=\"T_af8bfae2_7872_11eb_a31f_784f439a87aalevel0_row5\" class=\"row_heading level0 row5\" >m1</th>\n",
       "                        <td id=\"T_af8bfae2_7872_11eb_a31f_784f439a87aarow5_col0\" class=\"data row5 col0\" >0.800</td>\n",
       "                        <td id=\"T_af8bfae2_7872_11eb_a31f_784f439a87aarow5_col1\" class=\"data row5 col1\" >0.234</td>\n",
       "                        <td id=\"T_af8bfae2_7872_11eb_a31f_784f439a87aarow5_col2\" class=\"data row5 col2\" >0.000</td>\n",
       "                        <td id=\"T_af8bfae2_7872_11eb_a31f_784f439a87aarow5_col3\" class=\"data row5 col3\" >1.000</td>\n",
       "            </tr>\n",
       "            <tr>\n",
       "                        <th id=\"T_af8bfae2_7872_11eb_a31f_784f439a87aalevel0_row6\" class=\"row_heading level0 row6\" >m2</th>\n",
       "                        <td id=\"T_af8bfae2_7872_11eb_a31f_784f439a87aarow6_col0\" class=\"data row6 col0\" >0.100</td>\n",
       "                        <td id=\"T_af8bfae2_7872_11eb_a31f_784f439a87aarow6_col1\" class=\"data row6 col1\" >0.129</td>\n",
       "                        <td id=\"T_af8bfae2_7872_11eb_a31f_784f439a87aarow6_col2\" class=\"data row6 col2\" >-2.000</td>\n",
       "                        <td id=\"T_af8bfae2_7872_11eb_a31f_784f439a87aarow6_col3\" class=\"data row6 col3\" >2.000</td>\n",
       "            </tr>\n",
       "    </tbody></table>"
      ],
      "text/plain": [
       "<pandas.io.formats.style.Styler at 0x7f9cc52f8ba8>"
      ]
     },
     "execution_count": 14,
     "metadata": {},
     "output_type": "execute_result"
    }
   ],
   "source": [
    "html"
   ]
  },
  {
   "cell_type": "markdown",
   "metadata": {
    "variables": {
     "footer_html": "<div class='footer'>Name of Event | Title goes here | 26-02-2021</div>"
    }
   },
   "source": [
    "<div class='footer'>Name of Event | Title goes here | 26-02-2021</div>"
   ]
  },
  {
   "cell_type": "markdown",
   "metadata": {
    "slideshow": {
     "slide_type": "slide"
    },
    "variables": {
     "email_html": "<a href='mailto:your@email.com'>your@email.com</a>",
     "footer_html": "<div class='footer'>Name of Event | Title goes here | 26-02-2021</div>",
     "name": "Your Name MSc.",
     "twitter_html": "<a href='https://twitter.com/twitter'>@twitter</a>",
     "url_html": "<a href='www.your-website.com'>www.your-website.com</a>"
    }
   },
   "source": [
    "<div class=\"uu_title_container\">\n",
    "    <div class='column'>\n",
    "        <br><br><br>\n",
    "        <h2>Thank You</h2>\n",
    "        <br><br>\n",
    "        <p><b>Contact:</b><br>Your Name MSc.<br>Mail:&emsp;&emsp;&nbsp;<a href='mailto:your@email.com'>your@email.com</a><br>Twitter:&emsp;<a href='https://twitter.com/twitter'>@twitter</a><br>URL:&emsp;&emsp;<a href='www.your-website.com'>www.your-website.com</a></p>\n",
    "    </div>  \n",
    "    <div class='column' id='frame'>\n",
    "        <br><br><br>\n",
    "        <figure><center><img id=\"undraw_col_img\" src=\"./img/undraw_contact_us.svg\"></center></figure>\n",
    "    </div>\n",
    "</div>\n",
    "<div class='footer'>Name of Event | Title goes here | 26-02-2021</div>"
   ]
  },
  {
   "cell_type": "markdown",
   "metadata": {
    "slideshow": {
     "slide_type": "slide"
    },
    "variables": {}
   },
   "source": [
    "## References\n",
    "\n",
    "<div class=\"footer\">These slides were made using <a href=\"https://github.com/damianavila/RISE\"><code>RISE</code></a>, <a href=\"https://fonts.google.com/\">Google Fonts</a> and <a href=\"https://undraw.co\">Undraw Illustrations</a></div>"
   ]
  }
 ],
 "metadata": {
  "celltoolbar": "Slideshow",
  "kernelspec": {
   "display_name": "Python 3 (ipykernel)",
   "language": "python",
   "name": "python3"
  },
  "language_info": {
   "codemirror_mode": {
    "name": "ipython",
    "version": 3
   },
   "file_extension": ".py",
   "mimetype": "text/x-python",
   "name": "python",
   "nbconvert_exporter": "python",
   "pygments_lexer": "ipython3",
   "version": "3.9.13"
  },
  "notify_time": "5",
  "rise": {
   "center": false,
   "transition": "fade"
  },
  "toc": {
   "base_numbering": 1,
   "nav_menu": {},
   "number_sections": true,
   "sideBar": true,
   "skip_h1_title": true,
   "title_cell": "Table of Contents",
   "title_sidebar": "Contents",
   "toc_cell": false,
   "toc_position": {},
   "toc_section_display": true,
   "toc_window_display": false
  },
  "varInspector": {
   "cols": {
    "lenName": 16,
    "lenType": 16,
    "lenVar": 40
   },
   "kernels_config": {
    "python": {
     "delete_cmd_postfix": "",
     "delete_cmd_prefix": "del ",
     "library": "var_list.py",
     "varRefreshCmd": "print(var_dic_list())"
    },
    "r": {
     "delete_cmd_postfix": ") ",
     "delete_cmd_prefix": "rm(",
     "library": "var_list.r",
     "varRefreshCmd": "cat(var_dic_list()) "
    }
   },
   "types_to_exclude": [
    "module",
    "function",
    "builtin_function_or_method",
    "instance",
    "_Feature"
   ],
   "window_display": false
  }
 },
 "nbformat": 4,
 "nbformat_minor": 2
}
