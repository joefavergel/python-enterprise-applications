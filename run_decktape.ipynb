{
 "cells": [
  {
   "cell_type": "code",
   "execution_count": 1,
   "metadata": {},
   "outputs": [],
   "source": [
    "import nbformat\n",
    "from nbconvert.preprocessors import ExecutePreprocessor\n",
    "from resources.notebook_parser import ExecuteCodeMarkdownPreprocessor\n",
    "import resources.pre_pymarkdown as pp\n",
    "import os\n",
    "from notebook import notebookapp\n",
    "import subprocess"
   ]
  },
  {
   "cell_type": "code",
   "execution_count": 2,
   "metadata": {},
   "outputs": [],
   "source": [
    "# get active jupyter environment\n",
    "servers = notebookapp.list_running_servers()\n",
    "server = [server for server in servers if server['notebook_dir'] == os.getcwd()][0]\n",
    "\n",
    "# set parameters\n",
    "raw_file = 'template.ipynb'\n",
    "presentation_file = 'presentation.ipynb'\n",
    "decktape = './node_modules/decktape/decktape.js'\n",
    "chrome = '/Applications/Google Chrome.app/Contents/MacOS/Google Chrome'\n",
    "filename = presentation_file.split('.')[0]\n",
    "notebook = f\"{server['url']}notebooks/{filename}.ipynb?token={server['token']}\"\n",
    "outfile = os.path.join(os.getcwd(), 'slides.pdf')"
   ]
  },
  {
   "cell_type": "markdown",
   "metadata": {},
   "source": [
    "https://stackoverflow.com/questions/35805121/execute-a-jupyter-notebook-including-inline-markdown-with-nbconvert"
   ]
  },
  {
   "cell_type": "code",
   "execution_count": 3,
   "metadata": {},
   "outputs": [],
   "source": [
    "# preprocess jupyter notebook\n",
    "with open(raw_file) as f:\n",
    "    nb = nbformat.read(f, as_version=4)\n",
    "    ep = ExecuteCodeMarkdownPreprocessor(timeout=600, kernel_name='python3')\n",
    "    ep.preprocess(nb, {})\n",
    "    pymk = pp.PyMarkdownPreprocessor()\n",
    "    pymk.preprocess(nb, {})\n",
    "\n",
    "with open(presentation_file, 'wt') as f:\n",
    "    nbformat.write(nb, f)"
   ]
  },
  {
   "cell_type": "markdown",
   "metadata": {},
   "source": [
    "## Manual Step\n",
    "\n",
    "Open `presentation.ipynb` and run the first cell, to format rise presentation."
   ]
  },
  {
   "cell_type": "code",
   "execution_count": 4,
   "metadata": {},
   "outputs": [],
   "source": [
    "# run bash command\n",
    "bash_command = f\"cd ;{decktape} rise --size 1500x900 --chrome-path '{chrome}' '{notebook}' '{outfile}'\"\n",
    "rc = subprocess.call(bash_command, shell=True)"
   ]
  },
  {
   "cell_type": "code",
   "execution_count": 5,
   "metadata": {},
   "outputs": [],
   "source": [
    "os.remove(presentation_file)"
   ]
  },
  {
   "cell_type": "code",
   "execution_count": null,
   "metadata": {},
   "outputs": [],
   "source": []
  }
 ],
 "metadata": {
  "kernelspec": {
   "display_name": "Python 3",
   "language": "python",
   "name": "python3"
  },
  "language_info": {
   "codemirror_mode": {
    "name": "ipython",
    "version": 3
   },
   "file_extension": ".py",
   "mimetype": "text/x-python",
   "name": "python",
   "nbconvert_exporter": "python",
   "pygments_lexer": "ipython3",
   "version": "3.7.3"
  }
 },
 "nbformat": 4,
 "nbformat_minor": 2
}
